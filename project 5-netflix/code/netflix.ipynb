{
 "cells": [
  {
   "cell_type": "markdown",
   "id": "c0d377b9-117c-47ea-9f8e-a681ea6d4ec7",
   "metadata": {},
   "source": [
    "# Project:netflix "
   ]
  },
  {
   "cell_type": "markdown",
   "id": "91269bfa-3dc5-4730-8ee2-597f58c4eddb",
   "metadata": {},
   "source": [
    "## Importing necessary libraries"
   ]
  },
  {
   "cell_type": "code",
   "execution_count": 1,
   "id": "8d47099e-4083-471e-9180-3eb16c4ae53c",
   "metadata": {},
   "outputs": [],
   "source": [
    "import pandas as pd\n",
    "import numpy as np\n",
    "import seaborn as sns\n",
    "import matplotlib.pyplot as plt # used for plotting simple graphs\n",
    "\n",
    "from sklearn.preprocessing import LabelEncoder"
   ]
  },
  {
   "cell_type": "markdown",
   "id": "4edd1a18-fb3d-4844-91bf-6413c687e807",
   "metadata": {},
   "source": [
    "## Loading the data"
   ]
  },
  {
   "cell_type": "code",
   "execution_count": 2,
   "id": "f62f641b-8390-406c-9a57-9702829e2070",
   "metadata": {},
   "outputs": [
    {
     "data": {
      "text/html": [
       "<div>\n",
       "<style scoped>\n",
       "    .dataframe tbody tr th:only-of-type {\n",
       "        vertical-align: middle;\n",
       "    }\n",
       "\n",
       "    .dataframe tbody tr th {\n",
       "        vertical-align: top;\n",
       "    }\n",
       "\n",
       "    .dataframe thead th {\n",
       "        text-align: right;\n",
       "    }\n",
       "</style>\n",
       "<table border=\"1\" class=\"dataframe\">\n",
       "  <thead>\n",
       "    <tr style=\"text-align: right;\">\n",
       "      <th></th>\n",
       "      <th>User ID</th>\n",
       "      <th>Subscription Type</th>\n",
       "      <th>Monthly Revenue</th>\n",
       "      <th>Join Date</th>\n",
       "      <th>Last Payment Date</th>\n",
       "      <th>Country</th>\n",
       "      <th>Age</th>\n",
       "      <th>Gender</th>\n",
       "      <th>Device</th>\n",
       "      <th>Plan Duration</th>\n",
       "    </tr>\n",
       "  </thead>\n",
       "  <tbody>\n",
       "    <tr>\n",
       "      <th>0</th>\n",
       "      <td>1</td>\n",
       "      <td>Basic</td>\n",
       "      <td>10</td>\n",
       "      <td>15-01-22</td>\n",
       "      <td>10-06-23</td>\n",
       "      <td>United States</td>\n",
       "      <td>28</td>\n",
       "      <td>Male</td>\n",
       "      <td>Smartphone</td>\n",
       "      <td>1 Month</td>\n",
       "    </tr>\n",
       "    <tr>\n",
       "      <th>1</th>\n",
       "      <td>2</td>\n",
       "      <td>Premium</td>\n",
       "      <td>15</td>\n",
       "      <td>05-09-21</td>\n",
       "      <td>22-06-23</td>\n",
       "      <td>Canada</td>\n",
       "      <td>35</td>\n",
       "      <td>Female</td>\n",
       "      <td>Tablet</td>\n",
       "      <td>1 Month</td>\n",
       "    </tr>\n",
       "    <tr>\n",
       "      <th>2</th>\n",
       "      <td>3</td>\n",
       "      <td>Standard</td>\n",
       "      <td>12</td>\n",
       "      <td>28-02-23</td>\n",
       "      <td>27-06-23</td>\n",
       "      <td>United Kingdom</td>\n",
       "      <td>42</td>\n",
       "      <td>Male</td>\n",
       "      <td>Smart TV</td>\n",
       "      <td>1 Month</td>\n",
       "    </tr>\n",
       "    <tr>\n",
       "      <th>3</th>\n",
       "      <td>4</td>\n",
       "      <td>Standard</td>\n",
       "      <td>12</td>\n",
       "      <td>10-07-22</td>\n",
       "      <td>26-06-23</td>\n",
       "      <td>Australia</td>\n",
       "      <td>51</td>\n",
       "      <td>Female</td>\n",
       "      <td>Laptop</td>\n",
       "      <td>1 Month</td>\n",
       "    </tr>\n",
       "    <tr>\n",
       "      <th>4</th>\n",
       "      <td>5</td>\n",
       "      <td>Basic</td>\n",
       "      <td>10</td>\n",
       "      <td>01-05-23</td>\n",
       "      <td>28-06-23</td>\n",
       "      <td>Germany</td>\n",
       "      <td>33</td>\n",
       "      <td>Male</td>\n",
       "      <td>Smartphone</td>\n",
       "      <td>1 Month</td>\n",
       "    </tr>\n",
       "  </tbody>\n",
       "</table>\n",
       "</div>"
      ],
      "text/plain": [
       "   User ID Subscription Type  Monthly Revenue Join Date Last Payment Date  \\\n",
       "0        1             Basic               10  15-01-22          10-06-23   \n",
       "1        2           Premium               15  05-09-21          22-06-23   \n",
       "2        3          Standard               12  28-02-23          27-06-23   \n",
       "3        4          Standard               12  10-07-22          26-06-23   \n",
       "4        5             Basic               10  01-05-23          28-06-23   \n",
       "\n",
       "          Country  Age  Gender      Device Plan Duration  \n",
       "0   United States   28    Male  Smartphone       1 Month  \n",
       "1          Canada   35  Female      Tablet       1 Month  \n",
       "2  United Kingdom   42    Male    Smart TV       1 Month  \n",
       "3       Australia   51  Female      Laptop       1 Month  \n",
       "4         Germany   33    Male  Smartphone       1 Month  "
      ]
     },
     "execution_count": 2,
     "metadata": {},
     "output_type": "execute_result"
    }
   ],
   "source": [
    "df=pd.read_csv('../data/Netflix Userbase.csv') #loading of data done \n",
    "df.head()"
   ]
  },
  {
   "cell_type": "markdown",
   "id": "bf185fde-8239-4cce-8bd5-bbee8e782f3e",
   "metadata": {},
   "source": [
    "## display first five rows"
   ]
  },
  {
   "cell_type": "code",
   "execution_count": 3,
   "id": "be9a8399-12a5-4ecc-9ea8-b00eb4b3b67e",
   "metadata": {},
   "outputs": [
    {
     "data": {
      "text/html": [
       "<div>\n",
       "<style scoped>\n",
       "    .dataframe tbody tr th:only-of-type {\n",
       "        vertical-align: middle;\n",
       "    }\n",
       "\n",
       "    .dataframe tbody tr th {\n",
       "        vertical-align: top;\n",
       "    }\n",
       "\n",
       "    .dataframe thead th {\n",
       "        text-align: right;\n",
       "    }\n",
       "</style>\n",
       "<table border=\"1\" class=\"dataframe\">\n",
       "  <thead>\n",
       "    <tr style=\"text-align: right;\">\n",
       "      <th></th>\n",
       "      <th>User ID</th>\n",
       "      <th>Subscription Type</th>\n",
       "      <th>Monthly Revenue</th>\n",
       "      <th>Join Date</th>\n",
       "      <th>Last Payment Date</th>\n",
       "      <th>Country</th>\n",
       "      <th>Age</th>\n",
       "      <th>Gender</th>\n",
       "      <th>Device</th>\n",
       "      <th>Plan Duration</th>\n",
       "    </tr>\n",
       "  </thead>\n",
       "  <tbody>\n",
       "    <tr>\n",
       "      <th>0</th>\n",
       "      <td>1</td>\n",
       "      <td>Basic</td>\n",
       "      <td>10</td>\n",
       "      <td>15-01-22</td>\n",
       "      <td>10-06-23</td>\n",
       "      <td>United States</td>\n",
       "      <td>28</td>\n",
       "      <td>Male</td>\n",
       "      <td>Smartphone</td>\n",
       "      <td>1 Month</td>\n",
       "    </tr>\n",
       "    <tr>\n",
       "      <th>1</th>\n",
       "      <td>2</td>\n",
       "      <td>Premium</td>\n",
       "      <td>15</td>\n",
       "      <td>05-09-21</td>\n",
       "      <td>22-06-23</td>\n",
       "      <td>Canada</td>\n",
       "      <td>35</td>\n",
       "      <td>Female</td>\n",
       "      <td>Tablet</td>\n",
       "      <td>1 Month</td>\n",
       "    </tr>\n",
       "    <tr>\n",
       "      <th>2</th>\n",
       "      <td>3</td>\n",
       "      <td>Standard</td>\n",
       "      <td>12</td>\n",
       "      <td>28-02-23</td>\n",
       "      <td>27-06-23</td>\n",
       "      <td>United Kingdom</td>\n",
       "      <td>42</td>\n",
       "      <td>Male</td>\n",
       "      <td>Smart TV</td>\n",
       "      <td>1 Month</td>\n",
       "    </tr>\n",
       "    <tr>\n",
       "      <th>3</th>\n",
       "      <td>4</td>\n",
       "      <td>Standard</td>\n",
       "      <td>12</td>\n",
       "      <td>10-07-22</td>\n",
       "      <td>26-06-23</td>\n",
       "      <td>Australia</td>\n",
       "      <td>51</td>\n",
       "      <td>Female</td>\n",
       "      <td>Laptop</td>\n",
       "      <td>1 Month</td>\n",
       "    </tr>\n",
       "    <tr>\n",
       "      <th>4</th>\n",
       "      <td>5</td>\n",
       "      <td>Basic</td>\n",
       "      <td>10</td>\n",
       "      <td>01-05-23</td>\n",
       "      <td>28-06-23</td>\n",
       "      <td>Germany</td>\n",
       "      <td>33</td>\n",
       "      <td>Male</td>\n",
       "      <td>Smartphone</td>\n",
       "      <td>1 Month</td>\n",
       "    </tr>\n",
       "  </tbody>\n",
       "</table>\n",
       "</div>"
      ],
      "text/plain": [
       "   User ID Subscription Type  Monthly Revenue Join Date Last Payment Date  \\\n",
       "0        1             Basic               10  15-01-22          10-06-23   \n",
       "1        2           Premium               15  05-09-21          22-06-23   \n",
       "2        3          Standard               12  28-02-23          27-06-23   \n",
       "3        4          Standard               12  10-07-22          26-06-23   \n",
       "4        5             Basic               10  01-05-23          28-06-23   \n",
       "\n",
       "          Country  Age  Gender      Device Plan Duration  \n",
       "0   United States   28    Male  Smartphone       1 Month  \n",
       "1          Canada   35  Female      Tablet       1 Month  \n",
       "2  United Kingdom   42    Male    Smart TV       1 Month  \n",
       "3       Australia   51  Female      Laptop       1 Month  \n",
       "4         Germany   33    Male  Smartphone       1 Month  "
      ]
     },
     "execution_count": 3,
     "metadata": {},
     "output_type": "execute_result"
    }
   ],
   "source": [
    "df.head()"
   ]
  },
  {
   "cell_type": "markdown",
   "id": "f0aa1292-448c-4f67-a090-4b214bceed1c",
   "metadata": {},
   "source": [
    "## display last five rows"
   ]
  },
  {
   "cell_type": "code",
   "execution_count": 4,
   "id": "8ffa1a8e-861e-4681-8936-6e38620ac8dc",
   "metadata": {},
   "outputs": [
    {
     "data": {
      "text/html": [
       "<div>\n",
       "<style scoped>\n",
       "    .dataframe tbody tr th:only-of-type {\n",
       "        vertical-align: middle;\n",
       "    }\n",
       "\n",
       "    .dataframe tbody tr th {\n",
       "        vertical-align: top;\n",
       "    }\n",
       "\n",
       "    .dataframe thead th {\n",
       "        text-align: right;\n",
       "    }\n",
       "</style>\n",
       "<table border=\"1\" class=\"dataframe\">\n",
       "  <thead>\n",
       "    <tr style=\"text-align: right;\">\n",
       "      <th></th>\n",
       "      <th>User ID</th>\n",
       "      <th>Subscription Type</th>\n",
       "      <th>Monthly Revenue</th>\n",
       "      <th>Join Date</th>\n",
       "      <th>Last Payment Date</th>\n",
       "      <th>Country</th>\n",
       "      <th>Age</th>\n",
       "      <th>Gender</th>\n",
       "      <th>Device</th>\n",
       "      <th>Plan Duration</th>\n",
       "    </tr>\n",
       "  </thead>\n",
       "  <tbody>\n",
       "    <tr>\n",
       "      <th>2495</th>\n",
       "      <td>2496</td>\n",
       "      <td>Premium</td>\n",
       "      <td>14</td>\n",
       "      <td>25-07-22</td>\n",
       "      <td>12-07-23</td>\n",
       "      <td>Spain</td>\n",
       "      <td>28</td>\n",
       "      <td>Female</td>\n",
       "      <td>Smart TV</td>\n",
       "      <td>1 Month</td>\n",
       "    </tr>\n",
       "    <tr>\n",
       "      <th>2496</th>\n",
       "      <td>2497</td>\n",
       "      <td>Basic</td>\n",
       "      <td>15</td>\n",
       "      <td>04-08-22</td>\n",
       "      <td>14-07-23</td>\n",
       "      <td>Spain</td>\n",
       "      <td>33</td>\n",
       "      <td>Female</td>\n",
       "      <td>Smart TV</td>\n",
       "      <td>1 Month</td>\n",
       "    </tr>\n",
       "    <tr>\n",
       "      <th>2497</th>\n",
       "      <td>2498</td>\n",
       "      <td>Standard</td>\n",
       "      <td>12</td>\n",
       "      <td>09-08-22</td>\n",
       "      <td>15-07-23</td>\n",
       "      <td>United States</td>\n",
       "      <td>38</td>\n",
       "      <td>Male</td>\n",
       "      <td>Laptop</td>\n",
       "      <td>1 Month</td>\n",
       "    </tr>\n",
       "    <tr>\n",
       "      <th>2498</th>\n",
       "      <td>2499</td>\n",
       "      <td>Standard</td>\n",
       "      <td>13</td>\n",
       "      <td>12-08-22</td>\n",
       "      <td>12-07-23</td>\n",
       "      <td>Canada</td>\n",
       "      <td>48</td>\n",
       "      <td>Female</td>\n",
       "      <td>Tablet</td>\n",
       "      <td>1 Month</td>\n",
       "    </tr>\n",
       "    <tr>\n",
       "      <th>2499</th>\n",
       "      <td>2500</td>\n",
       "      <td>Basic</td>\n",
       "      <td>15</td>\n",
       "      <td>13-08-22</td>\n",
       "      <td>12-07-23</td>\n",
       "      <td>United States</td>\n",
       "      <td>35</td>\n",
       "      <td>Female</td>\n",
       "      <td>Smart TV</td>\n",
       "      <td>1 Month</td>\n",
       "    </tr>\n",
       "  </tbody>\n",
       "</table>\n",
       "</div>"
      ],
      "text/plain": [
       "      User ID Subscription Type  Monthly Revenue Join Date Last Payment Date  \\\n",
       "2495     2496           Premium               14  25-07-22          12-07-23   \n",
       "2496     2497             Basic               15  04-08-22          14-07-23   \n",
       "2497     2498          Standard               12  09-08-22          15-07-23   \n",
       "2498     2499          Standard               13  12-08-22          12-07-23   \n",
       "2499     2500             Basic               15  13-08-22          12-07-23   \n",
       "\n",
       "            Country  Age  Gender    Device Plan Duration  \n",
       "2495          Spain   28  Female  Smart TV       1 Month  \n",
       "2496          Spain   33  Female  Smart TV       1 Month  \n",
       "2497  United States   38    Male    Laptop       1 Month  \n",
       "2498         Canada   48  Female    Tablet       1 Month  \n",
       "2499  United States   35  Female  Smart TV       1 Month  "
      ]
     },
     "execution_count": 4,
     "metadata": {},
     "output_type": "execute_result"
    }
   ],
   "source": [
    "df.tail()"
   ]
  },
  {
   "cell_type": "markdown",
   "id": "a6087ed1-531c-48d9-bf43-f5cdfa21c68f",
   "metadata": {},
   "source": [
    "## shape of the data"
   ]
  },
  {
   "cell_type": "code",
   "execution_count": 5,
   "id": "3068102f-7f45-4cc8-b95e-ffa420ff82a4",
   "metadata": {},
   "outputs": [
    {
     "data": {
      "text/plain": [
       "(2500, 10)"
      ]
     },
     "execution_count": 5,
     "metadata": {},
     "output_type": "execute_result"
    }
   ],
   "source": [
    "df.shape"
   ]
  },
  {
   "cell_type": "markdown",
   "id": "ada15a5f-d7b4-44f5-bcb4-f6edd9360218",
   "metadata": {},
   "source": [
    "## info of the data"
   ]
  },
  {
   "cell_type": "code",
   "execution_count": 6,
   "id": "9e7ae182-c749-4fbd-8105-8ae53b5e494f",
   "metadata": {},
   "outputs": [
    {
     "name": "stdout",
     "output_type": "stream",
     "text": [
      "<class 'pandas.core.frame.DataFrame'>\n",
      "RangeIndex: 2500 entries, 0 to 2499\n",
      "Data columns (total 10 columns):\n",
      " #   Column             Non-Null Count  Dtype \n",
      "---  ------             --------------  ----- \n",
      " 0   User ID            2500 non-null   int64 \n",
      " 1   Subscription Type  2500 non-null   object\n",
      " 2   Monthly Revenue    2500 non-null   int64 \n",
      " 3   Join Date          2500 non-null   object\n",
      " 4   Last Payment Date  2500 non-null   object\n",
      " 5   Country            2500 non-null   object\n",
      " 6   Age                2500 non-null   int64 \n",
      " 7   Gender             2500 non-null   object\n",
      " 8   Device             2500 non-null   object\n",
      " 9   Plan Duration      2500 non-null   object\n",
      "dtypes: int64(3), object(7)\n",
      "memory usage: 195.4+ KB\n"
     ]
    }
   ],
   "source": [
    "df.info()"
   ]
  },
  {
   "cell_type": "markdown",
   "id": "3f79ae6b-3f9d-4c45-86b0-bc4aafd31a5d",
   "metadata": {},
   "source": [
    "## datatype conversion"
   ]
  },
  {
   "cell_type": "code",
   "execution_count": 7,
   "id": "5dd32252-36c6-49da-8e7b-9edb542caae0",
   "metadata": {},
   "outputs": [
    {
     "name": "stderr",
     "output_type": "stream",
     "text": [
      "C:\\Users\\DELL\\AppData\\Local\\Temp\\ipykernel_10048\\2826676671.py:2: UserWarning: Could not infer format, so each element will be parsed individually, falling back to `dateutil`. To ensure parsing is consistent and as-expected, please specify a format.\n",
      "  df['Join Date'] = pd.to_datetime(df['Join Date'])\n"
     ]
    },
    {
     "name": "stdout",
     "output_type": "stream",
     "text": [
      "User ID                       int64\n",
      "Subscription Type            object\n",
      "Monthly Revenue               int64\n",
      "Join Date            datetime64[ns]\n",
      "Last Payment Date    datetime64[ns]\n",
      "Country                      object\n",
      "Age                           int64\n",
      "Gender                       object\n",
      "Device                       object\n",
      "Plan Duration                object\n",
      "dtype: object\n"
     ]
    },
    {
     "name": "stderr",
     "output_type": "stream",
     "text": [
      "C:\\Users\\DELL\\AppData\\Local\\Temp\\ipykernel_10048\\2826676671.py:3: UserWarning: Could not infer format, so each element will be parsed individually, falling back to `dateutil`. To ensure parsing is consistent and as-expected, please specify a format.\n",
      "  df['Last Payment Date'] = pd.to_datetime(df['Last Payment Date'])\n"
     ]
    }
   ],
   "source": [
    "# Convert object columns to datetime\n",
    "df['Join Date'] = pd.to_datetime(df['Join Date'])\n",
    "df['Last Payment Date'] = pd.to_datetime(df['Last Payment Date'])\n",
    "\n",
    "print(df.dtypes)"
   ]
  },
  {
   "cell_type": "markdown",
   "id": "5d0bc976-9e77-4719-b753-fc38936a3639",
   "metadata": {},
   "source": [
    "## columns "
   ]
  },
  {
   "cell_type": "code",
   "execution_count": 8,
   "id": "ddc5aff2-2e40-4ba2-b31f-e47476a20d14",
   "metadata": {},
   "outputs": [
    {
     "name": "stdout",
     "output_type": "stream",
     "text": [
      "Index(['User ID', 'Subscription Type', 'Monthly Revenue', 'Join Date',\n",
      "       'Last Payment Date', 'Country', 'Age', 'Gender', 'Device',\n",
      "       'Plan Duration'],\n",
      "      dtype='object')\n"
     ]
    }
   ],
   "source": [
    "print(df.columns)"
   ]
  },
  {
   "cell_type": "markdown",
   "id": "f76fe9d0-d556-4e6f-bc51-7a1dc6313246",
   "metadata": {},
   "source": [
    "## statistical info"
   ]
  },
  {
   "cell_type": "code",
   "execution_count": 9,
   "id": "62194881-e7bb-4171-a748-91ae8f86ff97",
   "metadata": {},
   "outputs": [
    {
     "data": {
      "text/html": [
       "<div>\n",
       "<style scoped>\n",
       "    .dataframe tbody tr th:only-of-type {\n",
       "        vertical-align: middle;\n",
       "    }\n",
       "\n",
       "    .dataframe tbody tr th {\n",
       "        vertical-align: top;\n",
       "    }\n",
       "\n",
       "    .dataframe thead th {\n",
       "        text-align: right;\n",
       "    }\n",
       "</style>\n",
       "<table border=\"1\" class=\"dataframe\">\n",
       "  <thead>\n",
       "    <tr style=\"text-align: right;\">\n",
       "      <th></th>\n",
       "      <th>User ID</th>\n",
       "      <th>Monthly Revenue</th>\n",
       "      <th>Join Date</th>\n",
       "      <th>Last Payment Date</th>\n",
       "      <th>Age</th>\n",
       "    </tr>\n",
       "  </thead>\n",
       "  <tbody>\n",
       "    <tr>\n",
       "      <th>count</th>\n",
       "      <td>2500.00000</td>\n",
       "      <td>2500.000000</td>\n",
       "      <td>2500</td>\n",
       "      <td>2500</td>\n",
       "      <td>2500.000000</td>\n",
       "    </tr>\n",
       "    <tr>\n",
       "      <th>mean</th>\n",
       "      <td>1250.50000</td>\n",
       "      <td>12.508400</td>\n",
       "      <td>2022-07-30 08:06:43.200000</td>\n",
       "      <td>2023-06-21 10:33:36</td>\n",
       "      <td>38.795600</td>\n",
       "    </tr>\n",
       "    <tr>\n",
       "      <th>min</th>\n",
       "      <td>1.00000</td>\n",
       "      <td>10.000000</td>\n",
       "      <td>2021-05-09 00:00:00</td>\n",
       "      <td>2023-01-07 00:00:00</td>\n",
       "      <td>26.000000</td>\n",
       "    </tr>\n",
       "    <tr>\n",
       "      <th>25%</th>\n",
       "      <td>625.75000</td>\n",
       "      <td>11.000000</td>\n",
       "      <td>2022-06-15 00:00:00</td>\n",
       "      <td>2023-05-07 00:00:00</td>\n",
       "      <td>32.000000</td>\n",
       "    </tr>\n",
       "    <tr>\n",
       "      <th>50%</th>\n",
       "      <td>1250.50000</td>\n",
       "      <td>12.000000</td>\n",
       "      <td>2022-08-07 00:00:00</td>\n",
       "      <td>2023-06-28 00:00:00</td>\n",
       "      <td>39.000000</td>\n",
       "    </tr>\n",
       "    <tr>\n",
       "      <th>75%</th>\n",
       "      <td>1875.25000</td>\n",
       "      <td>14.000000</td>\n",
       "      <td>2022-10-09 00:00:00</td>\n",
       "      <td>2023-08-07 00:00:00</td>\n",
       "      <td>45.000000</td>\n",
       "    </tr>\n",
       "    <tr>\n",
       "      <th>max</th>\n",
       "      <td>2500.00000</td>\n",
       "      <td>15.000000</td>\n",
       "      <td>2023-12-01 00:00:00</td>\n",
       "      <td>2023-12-07 00:00:00</td>\n",
       "      <td>51.000000</td>\n",
       "    </tr>\n",
       "    <tr>\n",
       "      <th>std</th>\n",
       "      <td>721.83216</td>\n",
       "      <td>1.686851</td>\n",
       "      <td>NaN</td>\n",
       "      <td>NaN</td>\n",
       "      <td>7.171778</td>\n",
       "    </tr>\n",
       "  </tbody>\n",
       "</table>\n",
       "</div>"
      ],
      "text/plain": [
       "          User ID  Monthly Revenue                   Join Date  \\\n",
       "count  2500.00000      2500.000000                        2500   \n",
       "mean   1250.50000        12.508400  2022-07-30 08:06:43.200000   \n",
       "min       1.00000        10.000000         2021-05-09 00:00:00   \n",
       "25%     625.75000        11.000000         2022-06-15 00:00:00   \n",
       "50%    1250.50000        12.000000         2022-08-07 00:00:00   \n",
       "75%    1875.25000        14.000000         2022-10-09 00:00:00   \n",
       "max    2500.00000        15.000000         2023-12-01 00:00:00   \n",
       "std     721.83216         1.686851                         NaN   \n",
       "\n",
       "         Last Payment Date          Age  \n",
       "count                 2500  2500.000000  \n",
       "mean   2023-06-21 10:33:36    38.795600  \n",
       "min    2023-01-07 00:00:00    26.000000  \n",
       "25%    2023-05-07 00:00:00    32.000000  \n",
       "50%    2023-06-28 00:00:00    39.000000  \n",
       "75%    2023-08-07 00:00:00    45.000000  \n",
       "max    2023-12-07 00:00:00    51.000000  \n",
       "std                    NaN     7.171778  "
      ]
     },
     "execution_count": 9,
     "metadata": {},
     "output_type": "execute_result"
    }
   ],
   "source": [
    "df.describe()"
   ]
  },
  {
   "cell_type": "markdown",
   "id": "bab8b5c3-465f-42a1-84c9-fe032a33a897",
   "metadata": {},
   "source": [
    "## datatypes of the columns"
   ]
  },
  {
   "cell_type": "code",
   "execution_count": 10,
   "id": "26f50881-5313-4e38-8e24-93f6f2860aa4",
   "metadata": {},
   "outputs": [
    {
     "name": "stdout",
     "output_type": "stream",
     "text": [
      "User ID                       int64\n",
      "Subscription Type            object\n",
      "Monthly Revenue               int64\n",
      "Join Date            datetime64[ns]\n",
      "Last Payment Date    datetime64[ns]\n",
      "Country                      object\n",
      "Age                           int64\n",
      "Gender                       object\n",
      "Device                       object\n",
      "Plan Duration                object\n",
      "dtype: object\n"
     ]
    }
   ],
   "source": [
    "print(df.dtypes)"
   ]
  },
  {
   "cell_type": "markdown",
   "id": "0cb8fef0-34d1-4cd0-9891-1587c2179a28",
   "metadata": {},
   "source": [
    "## Checking missing values"
   ]
  },
  {
   "cell_type": "markdown",
   "id": "9403463e-38fb-4e22-99a1-9a9f960cd23a",
   "metadata": {},
   "source": [
    "### Checking duplicates"
   ]
  },
  {
   "cell_type": "code",
   "execution_count": 11,
   "id": "5ec3b646-5612-4867-bd2d-eebcefcef688",
   "metadata": {},
   "outputs": [
    {
     "data": {
      "text/plain": [
       "0"
      ]
     },
     "execution_count": 11,
     "metadata": {},
     "output_type": "execute_result"
    }
   ],
   "source": [
    "df.duplicated().sum()"
   ]
  },
  {
   "cell_type": "code",
   "execution_count": 12,
   "id": "03f31663-4862-42da-a233-e4565594e20c",
   "metadata": {},
   "outputs": [],
   "source": [
    "#there are  no duplicates in the dataset"
   ]
  },
  {
   "cell_type": "markdown",
   "id": "94fdf838-8f33-45d7-8986-829809db051e",
   "metadata": {},
   "source": [
    "### Checking nulls "
   ]
  },
  {
   "cell_type": "code",
   "execution_count": 13,
   "id": "bc6adda5-4b42-4835-99a0-139faefa6197",
   "metadata": {},
   "outputs": [
    {
     "data": {
      "text/plain": [
       "User ID              0\n",
       "Subscription Type    0\n",
       "Monthly Revenue      0\n",
       "Join Date            0\n",
       "Last Payment Date    0\n",
       "Country              0\n",
       "Age                  0\n",
       "Gender               0\n",
       "Device               0\n",
       "Plan Duration        0\n",
       "dtype: int64"
      ]
     },
     "execution_count": 13,
     "metadata": {},
     "output_type": "execute_result"
    }
   ],
   "source": [
    "df.isnull().sum()"
   ]
  },
  {
   "cell_type": "code",
   "execution_count": 14,
   "id": "09ce0f7f-46df-4082-afb9-4ce8ef055a12",
   "metadata": {},
   "outputs": [],
   "source": [
    "#there are no nulls in the dataset"
   ]
  },
  {
   "cell_type": "markdown",
   "id": "af3f0a7d-5aeb-4104-84f0-6bc31cc0e4dd",
   "metadata": {},
   "source": [
    "## Checking outliers"
   ]
  },
  {
   "cell_type": "markdown",
   "id": "943845da-1d88-40d8-9ef9-7e97d5da172d",
   "metadata": {},
   "source": [
    "## Using plots"
   ]
  },
  {
   "cell_type": "markdown",
   "id": "307e45fb-a612-441e-9f2b-d556f8518616",
   "metadata": {},
   "source": [
    "### Boxplot"
   ]
  },
  {
   "cell_type": "code",
   "execution_count": 15,
   "id": "de5faf01-cd71-4df9-a047-69431d4b2306",
   "metadata": {},
   "outputs": [
    {
     "data": {
      "image/png": "[encoded data removed]",
      "text/plain": [
       "<Figure size 1000x800 with 18 Axes>"
      ]
     },
     "metadata": {},
     "output_type": "display_data"
    }
   ],
   "source": [
    "df.select_dtypes(include=[float, int]).plot(kind='box', subplots=True, layout=(2, 9), figsize=(10, 8), sharex=False, sharey=False)\n",
    "plt.show()"
   ]
  },
  {
   "cell_type": "markdown",
   "id": "d1f79719-349f-4621-8c72-21b075d04fa6",
   "metadata": {},
   "source": [
    "## using statistical methods"
   ]
  },
  {
   "cell_type": "code",
   "execution_count": 16,
   "id": "5e198ea1-9ff8-46cc-823e-049da7057c8a",
   "metadata": {},
   "outputs": [
    {
     "name": "stdout",
     "output_type": "stream",
     "text": [
      "Outliers detected using IQR:\n",
      " Empty DataFrame\n",
      "Columns: []\n",
      "Index: []\n",
      "\n",
      "Outlier Counts by Column:\n",
      " {'Monthly Revenue': 0, 'Age': 0}\n"
     ]
    }
   ],
   "source": [
    "import pandas as pd\n",
    "\n",
    "# --- IQR Outlier Detection for Specific Columns with Count ---\n",
    "def detect_outliers_iqr(df):\n",
    "    outliers = pd.DataFrame()\n",
    "    outlier_counts = {}\n",
    "\n",
    "    # Specify the numeric columns to check for outliers\n",
    "    columns_to_check = ['Monthly Revenue', 'Age', 'Plan Duration']\n",
    "\n",
    "    for column in columns_to_check:  \n",
    "        if column in df.columns and pd.api.types.is_numeric_dtype(df[column]):\n",
    "            Q1 = df[column].quantile(0.25)\n",
    "            Q3 = df[column].quantile(0.75)\n",
    "            IQR = Q3 - Q1\n",
    "\n",
    "            lower_bound = Q1 - 1.5 * IQR\n",
    "            upper_bound = Q3 + 1.5 * IQR\n",
    "\n",
    "            # Detect outliers for the current column\n",
    "            outliers_column = df[(df[column] < lower_bound) | (df[column] > upper_bound)]\n",
    "\n",
    "            # Count the outliers\n",
    "            outlier_counts[column] = len(outliers_column)\n",
    "\n",
    "            if not outliers_column.empty:\n",
    "                outliers = pd.concat([outliers, outliers_column])\n",
    "\n",
    "    # Remove duplicates from the final outlier DataFrame\n",
    "    outliers.drop_duplicates(inplace=True)\n",
    "\n",
    "    print(\"Outliers detected using IQR:\\n\", outliers)\n",
    "    print(\"\\nOutlier Counts by Column:\\n\", outlier_counts)\n",
    "\n",
    "# Example Usage\n",
    "# Assuming `df` is your DataFrame\n",
    "# df = pd.read_excel('path/to/your/excel_file.xlsx')  # Load your dataset\n",
    "detect_outliers_iqr(df)\n"
   ]
  },
  {
   "cell_type": "code",
   "execution_count": 17,
   "id": "7210d638-804e-4a91-b7a1-4b9c1fff4bb9",
   "metadata": {},
   "outputs": [],
   "source": [
    "#there are no outliers in the data"
   ]
  },
  {
   "cell_type": "markdown",
   "id": "bc1668dc-f56e-4d61-bfca-8acf61ed2e51",
   "metadata": {},
   "source": [
    "## SQL connection"
   ]
  },
  {
   "cell_type": "code",
   "execution_count": 18,
   "id": "1de5f27e-c26f-4e3a-b7a1-a87e122bb285",
   "metadata": {},
   "outputs": [
    {
     "data": {
      "text/html": [
       "<div>\n",
       "<style scoped>\n",
       "    .dataframe tbody tr th:only-of-type {\n",
       "        vertical-align: middle;\n",
       "    }\n",
       "\n",
       "    .dataframe tbody tr th {\n",
       "        vertical-align: top;\n",
       "    }\n",
       "\n",
       "    .dataframe thead th {\n",
       "        text-align: right;\n",
       "    }\n",
       "</style>\n",
       "<table border=\"1\" class=\"dataframe\">\n",
       "  <thead>\n",
       "    <tr style=\"text-align: right;\">\n",
       "      <th></th>\n",
       "      <th>User ID</th>\n",
       "      <th>Subscription Type</th>\n",
       "      <th>Monthly Revenue</th>\n",
       "      <th>Join Date</th>\n",
       "      <th>Last Payment Date</th>\n",
       "      <th>Country</th>\n",
       "      <th>Age</th>\n",
       "      <th>Gender</th>\n",
       "      <th>Device</th>\n",
       "      <th>Plan Duration</th>\n",
       "    </tr>\n",
       "  </thead>\n",
       "  <tbody>\n",
       "    <tr>\n",
       "      <th>0</th>\n",
       "      <td>1</td>\n",
       "      <td>Basic</td>\n",
       "      <td>10</td>\n",
       "      <td>2022-01-15</td>\n",
       "      <td>2023-10-06</td>\n",
       "      <td>United States</td>\n",
       "      <td>28</td>\n",
       "      <td>Male</td>\n",
       "      <td>Smartphone</td>\n",
       "      <td>1 Month</td>\n",
       "    </tr>\n",
       "    <tr>\n",
       "      <th>1</th>\n",
       "      <td>2</td>\n",
       "      <td>Premium</td>\n",
       "      <td>15</td>\n",
       "      <td>2021-05-09</td>\n",
       "      <td>2023-06-22</td>\n",
       "      <td>Canada</td>\n",
       "      <td>35</td>\n",
       "      <td>Female</td>\n",
       "      <td>Tablet</td>\n",
       "      <td>1 Month</td>\n",
       "    </tr>\n",
       "    <tr>\n",
       "      <th>2</th>\n",
       "      <td>3</td>\n",
       "      <td>Standard</td>\n",
       "      <td>12</td>\n",
       "      <td>2023-02-28</td>\n",
       "      <td>2023-06-27</td>\n",
       "      <td>United Kingdom</td>\n",
       "      <td>42</td>\n",
       "      <td>Male</td>\n",
       "      <td>Smart TV</td>\n",
       "      <td>1 Month</td>\n",
       "    </tr>\n",
       "    <tr>\n",
       "      <th>3</th>\n",
       "      <td>4</td>\n",
       "      <td>Standard</td>\n",
       "      <td>12</td>\n",
       "      <td>2022-10-07</td>\n",
       "      <td>2023-06-26</td>\n",
       "      <td>Australia</td>\n",
       "      <td>51</td>\n",
       "      <td>Female</td>\n",
       "      <td>Laptop</td>\n",
       "      <td>1 Month</td>\n",
       "    </tr>\n",
       "    <tr>\n",
       "      <th>4</th>\n",
       "      <td>5</td>\n",
       "      <td>Basic</td>\n",
       "      <td>10</td>\n",
       "      <td>2023-01-05</td>\n",
       "      <td>2023-06-28</td>\n",
       "      <td>Germany</td>\n",
       "      <td>33</td>\n",
       "      <td>Male</td>\n",
       "      <td>Smartphone</td>\n",
       "      <td>1 Month</td>\n",
       "    </tr>\n",
       "  </tbody>\n",
       "</table>\n",
       "</div>"
      ],
      "text/plain": [
       "   User ID Subscription Type  Monthly Revenue  Join Date Last Payment Date  \\\n",
       "0        1             Basic               10 2022-01-15        2023-10-06   \n",
       "1        2           Premium               15 2021-05-09        2023-06-22   \n",
       "2        3          Standard               12 2023-02-28        2023-06-27   \n",
       "3        4          Standard               12 2022-10-07        2023-06-26   \n",
       "4        5             Basic               10 2023-01-05        2023-06-28   \n",
       "\n",
       "          Country  Age  Gender      Device Plan Duration  \n",
       "0   United States   28    Male  Smartphone       1 Month  \n",
       "1          Canada   35  Female      Tablet       1 Month  \n",
       "2  United Kingdom   42    Male    Smart TV       1 Month  \n",
       "3       Australia   51  Female      Laptop       1 Month  \n",
       "4         Germany   33    Male  Smartphone       1 Month  "
      ]
     },
     "execution_count": 18,
     "metadata": {},
     "output_type": "execute_result"
    }
   ],
   "source": [
    "df.head()"
   ]
  },
  {
   "cell_type": "markdown",
   "id": "8e9b1f5b-dc9f-419f-8d80-e1d1a21f3ac9",
   "metadata": {},
   "source": [
    "## renaming the column names"
   ]
  },
  {
   "cell_type": "code",
   "execution_count": 19,
   "id": "6c0f1209-ca04-43d8-b5b8-20373bd01626",
   "metadata": {},
   "outputs": [
    {
     "name": "stdout",
     "output_type": "stream",
     "text": [
      "Index(['User_ID', 'Subscription_Type', 'Monthly_Revenue', 'Join_Date',\n",
      "       'Last_Payment_Date', 'Country', 'Age', 'Gender', 'Device',\n",
      "       'Plan_Duration'],\n",
      "      dtype='object')\n"
     ]
    }
   ],
   "source": [
    "# Rename the columns\n",
    "df.rename(columns={\n",
    "    'User ID': 'User_ID',\n",
    "    'Subscription Type': 'Subscription_Type',\n",
    "    'Monthly Revenue': 'Monthly_Revenue',\n",
    "    'Join Date': 'Join_Date',\n",
    "    'Last Payment Date': 'Last_Payment_Date',\n",
    "    'Country': 'Country',\n",
    "    'Age': 'Age',\n",
    "    'Gender': 'Gender',\n",
    "    'Device': 'Device',\n",
    "    'Plan Duration': 'Plan_Duration'\n",
    "}, inplace=True)\n",
    "\n",
    "# Verify the changes\n",
    "print(df.columns)\n"
   ]
  },
  {
   "cell_type": "code",
   "execution_count": 20,
   "id": "2ba5b557-e849-4fcf-8464-5d7648ca1faa",
   "metadata": {},
   "outputs": [
    {
     "data": {
      "text/html": [
       "<div>\n",
       "<style scoped>\n",
       "    .dataframe tbody tr th:only-of-type {\n",
       "        vertical-align: middle;\n",
       "    }\n",
       "\n",
       "    .dataframe tbody tr th {\n",
       "        vertical-align: top;\n",
       "    }\n",
       "\n",
       "    .dataframe thead th {\n",
       "        text-align: right;\n",
       "    }\n",
       "</style>\n",
       "<table border=\"1\" class=\"dataframe\">\n",
       "  <thead>\n",
       "    <tr style=\"text-align: right;\">\n",
       "      <th></th>\n",
       "      <th>User_ID</th>\n",
       "      <th>Subscription_Type</th>\n",
       "      <th>Monthly_Revenue</th>\n",
       "      <th>Join_Date</th>\n",
       "      <th>Last_Payment_Date</th>\n",
       "      <th>Country</th>\n",
       "      <th>Age</th>\n",
       "      <th>Gender</th>\n",
       "      <th>Device</th>\n",
       "      <th>Plan_Duration</th>\n",
       "    </tr>\n",
       "  </thead>\n",
       "  <tbody>\n",
       "    <tr>\n",
       "      <th>0</th>\n",
       "      <td>1</td>\n",
       "      <td>Basic</td>\n",
       "      <td>10</td>\n",
       "      <td>2022-01-15</td>\n",
       "      <td>2023-10-06</td>\n",
       "      <td>United States</td>\n",
       "      <td>28</td>\n",
       "      <td>Male</td>\n",
       "      <td>Smartphone</td>\n",
       "      <td>1 Month</td>\n",
       "    </tr>\n",
       "    <tr>\n",
       "      <th>1</th>\n",
       "      <td>2</td>\n",
       "      <td>Premium</td>\n",
       "      <td>15</td>\n",
       "      <td>2021-05-09</td>\n",
       "      <td>2023-06-22</td>\n",
       "      <td>Canada</td>\n",
       "      <td>35</td>\n",
       "      <td>Female</td>\n",
       "      <td>Tablet</td>\n",
       "      <td>1 Month</td>\n",
       "    </tr>\n",
       "    <tr>\n",
       "      <th>2</th>\n",
       "      <td>3</td>\n",
       "      <td>Standard</td>\n",
       "      <td>12</td>\n",
       "      <td>2023-02-28</td>\n",
       "      <td>2023-06-27</td>\n",
       "      <td>United Kingdom</td>\n",
       "      <td>42</td>\n",
       "      <td>Male</td>\n",
       "      <td>Smart TV</td>\n",
       "      <td>1 Month</td>\n",
       "    </tr>\n",
       "    <tr>\n",
       "      <th>3</th>\n",
       "      <td>4</td>\n",
       "      <td>Standard</td>\n",
       "      <td>12</td>\n",
       "      <td>2022-10-07</td>\n",
       "      <td>2023-06-26</td>\n",
       "      <td>Australia</td>\n",
       "      <td>51</td>\n",
       "      <td>Female</td>\n",
       "      <td>Laptop</td>\n",
       "      <td>1 Month</td>\n",
       "    </tr>\n",
       "    <tr>\n",
       "      <th>4</th>\n",
       "      <td>5</td>\n",
       "      <td>Basic</td>\n",
       "      <td>10</td>\n",
       "      <td>2023-01-05</td>\n",
       "      <td>2023-06-28</td>\n",
       "      <td>Germany</td>\n",
       "      <td>33</td>\n",
       "      <td>Male</td>\n",
       "      <td>Smartphone</td>\n",
       "      <td>1 Month</td>\n",
       "    </tr>\n",
       "  </tbody>\n",
       "</table>\n",
       "</div>"
      ],
      "text/plain": [
       "   User_ID Subscription_Type  Monthly_Revenue  Join_Date Last_Payment_Date  \\\n",
       "0        1             Basic               10 2022-01-15        2023-10-06   \n",
       "1        2           Premium               15 2021-05-09        2023-06-22   \n",
       "2        3          Standard               12 2023-02-28        2023-06-27   \n",
       "3        4          Standard               12 2022-10-07        2023-06-26   \n",
       "4        5             Basic               10 2023-01-05        2023-06-28   \n",
       "\n",
       "          Country  Age  Gender      Device Plan_Duration  \n",
       "0   United States   28    Male  Smartphone       1 Month  \n",
       "1          Canada   35  Female      Tablet       1 Month  \n",
       "2  United Kingdom   42    Male    Smart TV       1 Month  \n",
       "3       Australia   51  Female      Laptop       1 Month  \n",
       "4         Germany   33    Male  Smartphone       1 Month  "
      ]
     },
     "execution_count": 20,
     "metadata": {},
     "output_type": "execute_result"
    }
   ],
   "source": [
    "df['Plan_Duration'] = df['Plan_Duration'].fillna('Unknown')  # Replace NaNs with 'Unknown'\n",
    "df.head()"
   ]
  },
  {
   "cell_type": "code",
   "execution_count": 21,
   "id": "093b4c88-e89d-4833-8cfc-e0e211ab0938",
   "metadata": {},
   "outputs": [
    {
     "name": "stdout",
     "output_type": "stream",
     "text": [
      "Row data: [1, 'Basic', 10, Timestamp('2022-01-15 00:00:00'), Timestamp('2023-10-06 00:00:00'), 'United States', 28, 'Male', 'Smartphone', '1 Month']\n",
      "Number of columns in row: 10\n",
      "Row data: [2, 'Premium', 15, Timestamp('2021-05-09 00:00:00'), Timestamp('2023-06-22 00:00:00'), 'Canada', 35, 'Female', 'Tablet', '1 Month']\n",
      "Number of columns in row: 10\n",
      "Row data: [3, 'Standard', 12, Timestamp('2023-02-28 00:00:00'), Timestamp('2023-06-27 00:00:00'), 'United Kingdom', 42, 'Male', 'Smart TV', '1 Month']\n",
      "Number of columns in row: 10\n",
      "Row data: [4, 'Standard', 12, Timestamp('2022-10-07 00:00:00'), Timestamp('2023-06-26 00:00:00'), 'Australia', 51, 'Female', 'Laptop', '1 Month']\n",
      "Number of columns in row: 10\n",
      "Row data: [5, 'Basic', 10, Timestamp('2023-01-05 00:00:00'), Timestamp('2023-06-28 00:00:00'), 'Germany', 33, 'Male', 'Smartphone', '1 Month']\n",
      "Number of columns in row: 10\n",
      "Data inserted into table 'netflix_subscription_dataa' successfully.\n"
     ]
    }
   ],
   "source": [
    "import mysql.connector\n",
    "import pandas as pd\n",
    "\n",
    "# Database connection details\n",
    "db_config = {\n",
    "    'host': 'localhost',\n",
    "    'user': 'root',        # Replace with your MySQL username\n",
    "    'password': 'root',    # Replace with your MySQL password\n",
    "    'database': 'projects' # Replace with your database name\n",
    "}\n",
    "\n",
    "# Connect to the database\n",
    "connection = mysql.connector.connect(**db_config)\n",
    "cursor = connection.cursor()\n",
    "\n",
    "# Create the table if it doesn't exist\n",
    "table_name = 'netflix_subscription_dataa'\n",
    "create_table_query = f\"\"\"\n",
    "CREATE TABLE IF NOT EXISTS {table_name} (\n",
    "    User_ID INT,\n",
    "    Subscription_Type VARCHAR(50),\n",
    "    Monthly_Revenue FLOAT,\n",
    "    Join_Date DATE,\n",
    "    Last_Payment_Date DATE,\n",
    "    Country VARCHAR(50),\n",
    "    Age INT,\n",
    "    Gender VARCHAR(10),\n",
    "    Device VARCHAR(50),\n",
    "    Plan_Duration VARCHAR(250)\n",
    ");\n",
    "\"\"\"\n",
    "cursor.execute(create_table_query)\n",
    "\n",
    "# Filter required columns from DataFrame (assuming df is already defined and columns are renamed)\n",
    "df_to_insert = df[['User_ID', 'Subscription_Type', 'Monthly_Revenue', 'Join_Date',\n",
    "                   'Last_Payment_Date', 'Country', 'Age', 'Gender', 'Device',\n",
    "                   'Plan_Duration']]\n",
    "\n",
    "# Convert filtered DataFrame to list of tuples\n",
    "data_to_insert = df_to_insert.values.tolist()\n",
    "\n",
    "# Debugging: Check if the number of elements in each row matches the number of placeholders\n",
    "for row in data_to_insert[:5]:  # Print first 5 rows as sample\n",
    "    print(f\"Row data: {row}\")\n",
    "    print(f\"Number of columns in row: {len(row)}\")\n",
    "    # Ensure that the number of elements matches the 10 placeholders\n",
    "    if len(row) != 10:\n",
    "        print(f\"Warning: Row has {len(row)} columns, expected 10.\")\n",
    "\n",
    "# Insert multiple rows at once\n",
    "insert_query = f\"\"\"\n",
    "INSERT INTO {table_name} (User_ID, Subscription_Type, Monthly_Revenue, Join_Date, Last_Payment_Date, \n",
    "                          Country, Age, Gender, Device, Plan_Duration)\n",
    "VALUES (%s, %s, %s, %s, %s, %s, %s, %s, %s, %s)\n",
    "\"\"\"\n",
    "\n",
    "# Insert data into the table\n",
    "cursor.executemany(insert_query, data_to_insert)\n",
    "\n",
    "# Commit the transaction and close the connection\n",
    "connection.commit()\n",
    "print(f\"Data inserted into table '{table_name}' successfully.\")\n",
    "\n",
    "# Close the cursor and connection\n",
    "cursor.close()\n",
    "connection.close()\n"
   ]
  },
  {
   "cell_type": "code",
   "execution_count": 22,
   "id": "ecfb4e84-0cff-437e-8e5c-85ab61e94d1c",
   "metadata": {},
   "outputs": [],
   "source": [
    "#sql connection is done\n"
   ]
  },
  {
   "cell_type": "code",
   "execution_count": null,
   "id": "24fd98c7-c38c-43d3-b71a-9876a45d93bf",
   "metadata": {},
   "outputs": [],
   "source": []
  }
 ],
 "metadata": {
  "kernelspec": {
   "display_name": "Python 3 (ipykernel)",
   "language": "python",
   "name": "python3"
  },
  "language_info": {
   "codemirror_mode": {
    "name": "ipython",
    "version": 3
   },
   "file_extension": ".py",
   "mimetype": "text/x-python",
   "name": "python",
   "nbconvert_exporter": "python",
   "pygments_lexer": "ipython3",
   "version": "3.9.18"
  }
 },
 "nbformat": 4,
 "nbformat_minor": 5
}
